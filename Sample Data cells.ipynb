{
 "cells": [
  {
   "cell_type": "code",
   "execution_count": 1,
   "metadata": {},
   "outputs": [],
   "source": [
    "import matplotlib.pyplot as plt\n",
    "import matplotlib.gridspec as gridspec"
   ]
  },
  {
   "cell_type": "code",
   "execution_count": null,
   "metadata": {},
   "outputs": [],
   "source": [
    "#Letters\n",
    "lower_letters = ['a','b', 'c', 'd', 'e', 'f', 'g', 'h', 'i', 'j', 'k', 'l', 'm', 'n', 'o', 'p', 'q', 'r', 's', 't', 'u', 'v', 'w', 'x', 'y', 'z']\n"
   ]
  },
  {
   "cell_type": "code",
   "execution_count": null,
   "metadata": {},
   "outputs": [],
   "source": [
    "#Collection of lists of numbers\n",
    "x = [1,2,3,4,5,6,7,8,9,10]\n",
    "y = [1,8,9,2,3,10,4,5,6,7]\n",
    "z = [1,2,3,1,2,3,1,2,3,1]\n",
    "\n",
    "a1 = [1,1,1,1,1,1,1,1,1,1,1,1,1,1,1]\n",
    "b1 = [1,1,1,1,1,1,1,1,1,1,1,1,1,1,1]\n",
    "c1 = [1,1,1,1,4,4,4,4,4,1,1,1,1,1,1]\n",
    "d1 = [9,9,9,9,9,9,9,9,9,9,9,7,7,7,7]\n",
    "e1 = [9,9,9,9,9,9,9,9,9,9,9,7,7,7,7]\n",
    "f1 = [9,9,9,9,9,9,9,9,9,9,9,7,7,7,7]\n",
    "g1 = [1,1,1,1,4,4,4,4,4,1,1,1,1,1,1]\n",
    "h1 = [1,1,1,1,1,1,1,1,1,1,1,1,1,1,1]\n",
    "i1 = [2,2,2,2,2,2,2,2,2,2,2,2,2,2,2]"
   ]
  },
  {
   "cell_type": "code",
   "execution_count": 3,
   "metadata": {},
   "outputs": [
    {
     "name": "stdout",
     "output_type": "stream",
     "text": [
      "n is 4\n",
      "c is 18\n"
     ]
    },
    {
     "data": {
      "text/plain": [
       "18"
      ]
     },
     "execution_count": 3,
     "metadata": {},
     "output_type": "execute_result"
    }
   ],
   "source": []
  },
  {
   "cell_type": "code",
   "execution_count": 19,
   "metadata": {},
   "outputs": [
    {
     "data": {
      "text/plain": [
       "<function matplotlib.pyplot.show(*args, **kw)>"
      ]
     },
     "execution_count": 19,
     "metadata": {},
     "output_type": "execute_result"
    },
    {
     "data": {
      "image/png": "[encoded data removed]",
      "text/plain": [
       "<Figure size 432x288 with 3 Axes>"
      ]
     },
     "metadata": {
      "needs_background": "light"
     },
     "output_type": "display_data"
    }
   ],
   "source": [
    "fig = plt.figure()\n",
    "\n",
    "gs0 = gridspec.GridSpec(1,1, figure=fig)\n",
    "# gs0 = gridspec.GridSpec(1,3, width_ratios=[3,2,1])\n",
    "\n",
    "gs00 = gridspec.GridSpecFromSubplotSpec(7, 1, subplot_spec=gs0[0])\n",
    "\n",
    "ax1 = fig.add_subplot(gs00[0,0])\n",
    "ax2 = fig.add_subplot(gs00[1:3, 0])\n",
    "ax3 = fig.add_subplot(gs00[3:,0])\n",
    "\n",
    "# gs1 = gridspec.GridSpecFromSubplotSpec(int(video.shape[1]/2)*3+2, 2, width_ratios=[0.9, 0.05], height_ratios=[1, 0.1]+[0.1, 0.8, 0.1]*int(video.shape[1]/2), subplot_spec=gs0[0])\n",
    "# gs2 = gridspec.GridSpecFromSubplotSpec(int(video.shape[1]/2)*3+2, 2, width_ratios=[0.1, 1.9], height_ratios=[1, 0.1]+[0.1, 0.8, 0.1]*int(video.shape[1]/2), subplot_spec=gs0[1], wspace=0)\n",
    "# gs3 = gridspec.GridSpecFromSubplotSpec(int(video.shape[1]/2)*3+2, 2, width_ratios=[0.1, 1.9], height_ratios=[1, 0.1]+[0.1, 0.8, 0.1]*int(video.shape[1]/2), subplot_spec=gs0[2], wspace=0)\n",
    "\n",
    "# plt.subplot(3,3,1)\n",
    "# plt.show\n",
    "# plt.subplot(3,3,8)\n",
    "plt.show"
   ]
  },
  {
   "cell_type": "code",
   "execution_count": 29,
   "metadata": {},
   "outputs": [
    {
     "name": "stdout",
     "output_type": "stream",
     "text": [
      "124\n",
      "{'lA': 45, 'lB': 15, 'lC': 64}\n"
     ]
    }
   ],
   "source": [
    "lenNum = 124\n",
    "lA = 45\n",
    "lB = 15\n",
    "lC = 64\n",
    "# while lenNum % 10 != 0:\n",
    "#     lenNum += 1\n",
    "print(lenNum)\n",
    "sortDict = {'lA': 45, 'lB' : 15, 'lC' : 64}\n",
    "print(sortDict)"
   ]
  },
  {
   "cell_type": "code",
   "execution_count": 30,
   "metadata": {},
   "outputs": [
    {
     "name": "stdout",
     "output_type": "stream",
     "text": [
      "50\n",
      "20\n",
      "70\n",
      "4.032258064516129\n",
      "1.6129032258064515\n",
      "5.645161290322581\n"
     ]
    }
   ],
   "source": [
    "for key in sortDict:\n",
    "    while sortDict[key] % 10 != 0:\n",
    "        sortDict[key] += 1\n",
    "    print(sortDict[key])\n",
    "newLen = 0\n",
    "for key in sortDict:\n",
    "    newLen += sortDict[key]\n",
    "    \n",
    "for key in sortDict:\n",
    "    new_prop = (sortDict[key]/lenNum)*10\n",
    "    print(new_prop)\n",
    "    "
   ]
  },
  {
   "cell_type": "code",
   "execution_count": 31,
   "metadata": {},
   "outputs": [
    {
     "name": "stdout",
     "output_type": "stream",
     "text": [
      "140\n"
     ]
    }
   ],
   "source": [
    "print(newLen)"
   ]
  },
  {
   "cell_type": "code",
   "execution_count": null,
   "metadata": {},
   "outputs": [],
   "source": []
  }
 ],
 "metadata": {
  "kernelspec": {
   "display_name": "Python 3",
   "language": "python",
   "name": "python3"
  },
  "language_info": {
   "codemirror_mode": {
    "name": "ipython",
    "version": 3
   },
   "file_extension": ".py",
   "mimetype": "text/x-python",
   "name": "python",
   "nbconvert_exporter": "python",
   "pygments_lexer": "ipython3",
   "version": "3.7.6"
  }
 },
 "nbformat": 4,
 "nbformat_minor": 4
}
